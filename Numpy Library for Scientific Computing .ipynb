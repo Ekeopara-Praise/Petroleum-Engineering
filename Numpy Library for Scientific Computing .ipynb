{
 "cells": [
  {
   "cell_type": "markdown",
   "metadata": {},
   "source": [
    "## Numpy Library for Scientific Computing"
   ]
  },
  {
   "cell_type": "markdown",
   "metadata": {},
   "source": [
    "**Areas to Cover**\n",
    "* Importing the module 1\n",
    "* Basic Attributes of the Numpy lib 2\n",
    "* Data types\n",
    "* Indexing and Slicing \n",
    "* Basic Matrix Computations\n",
    "* Arithmetic Operations\n",
    "* Elementwise Functions\n",
    "* Summary and Next steps"
   ]
  },
  {
   "cell_type": "markdown",
   "metadata": {},
   "source": [
    "Before we start working with the numpy library, we need to first import the Numpy class known as the ndarray. To do this, we use the code below,"
   ]
  },
  {
   "cell_type": "markdown",
   "metadata": {},
   "source": [
    "### Importing the module "
   ]
  },
  {
   "cell_type": "code",
   "execution_count": 1,
   "metadata": {},
   "outputs": [],
   "source": [
    "#importing the numpy class\n",
    "import numpy as np                                     # np happens to be a conventional acronym for numpy."
   ]
  },
  {
   "cell_type": "markdown",
   "metadata": {},
   "source": [
    "Lets check out the built in functions"
   ]
  },
  {
   "cell_type": "code",
   "execution_count": 2,
   "metadata": {
    "scrolled": true
   },
   "outputs": [],
   "source": [
    "#help(np.ndarray)"
   ]
  },
  {
   "cell_type": "markdown",
   "metadata": {},
   "source": [
    "### Basic Attributes of the Numpy lib 2"
   ]
  },
  {
   "cell_type": "markdown",
   "metadata": {},
   "source": [
    "Next is to look into the basic attributes of numpy library. They include;\n",
    "* shape\n",
    "* ndim\n",
    "* size\n",
    "* nbytes\n",
    "* dtype\n",
    "\n",
    "Lets check them out in this following examples. First we have to create a numpy array."
   ]
  },
  {
   "cell_type": "code",
   "execution_count": 3,
   "metadata": {},
   "outputs": [],
   "source": [
    "first_data = np.array([[2, 3], [4,5]])              # This becomes our new array."
   ]
  },
  {
   "cell_type": "code",
   "execution_count": 4,
   "metadata": {},
   "outputs": [
    {
     "data": {
      "text/plain": [
       "array([[2, 3],\n",
       "       [4, 5]])"
      ]
     },
     "execution_count": 4,
     "metadata": {},
     "output_type": "execute_result"
    }
   ],
   "source": [
    "first_data                                          # Lets have a view of it."
   ]
  },
  {
   "cell_type": "code",
   "execution_count": 5,
   "metadata": {},
   "outputs": [
    {
     "data": {
      "text/plain": [
       "(2, 2)"
      ]
     },
     "execution_count": 5,
     "metadata": {},
     "output_type": "execute_result"
    }
   ],
   "source": [
    "#ndarray.shape\n",
    "first_data.shape                                    # This is a tuple that gives the number rows & columns of an array"
   ]
  },
  {
   "cell_type": "code",
   "execution_count": 6,
   "metadata": {},
   "outputs": [
    {
     "data": {
      "text/plain": [
       "2"
      ]
     },
     "execution_count": 6,
     "metadata": {},
     "output_type": "execute_result"
    }
   ],
   "source": [
    "#ndarray.ndim\n",
    "first_data.ndim                                   # This outputs the number of dimensions (axes)"
   ]
  },
  {
   "cell_type": "code",
   "execution_count": 7,
   "metadata": {},
   "outputs": [
    {
     "data": {
      "text/plain": [
       "4"
      ]
     },
     "execution_count": 7,
     "metadata": {},
     "output_type": "execute_result"
    }
   ],
   "source": [
    "#ndarray.size\n",
    "first_data.size                                   # This outputs the Number of elements in the array"
   ]
  },
  {
   "cell_type": "code",
   "execution_count": 8,
   "metadata": {},
   "outputs": [
    {
     "data": {
      "text/plain": [
       "16"
      ]
     },
     "execution_count": 8,
     "metadata": {},
     "output_type": "execute_result"
    }
   ],
   "source": [
    "#ndarray.nbytes\n",
    "first_data.nbytes                                 # Outputs thetotal number of bytes required to store the array data"
   ]
  },
  {
   "cell_type": "code",
   "execution_count": 9,
   "metadata": {},
   "outputs": [
    {
     "data": {
      "text/plain": [
       "dtype('int32')"
      ]
     },
     "execution_count": 9,
     "metadata": {},
     "output_type": "execute_result"
    }
   ],
   "source": [
    "#ndarray.dtype\n",
    "first_data.dtype                                  # Describes the format of the elements in the array."
   ]
  },
  {
   "cell_type": "markdown",
   "metadata": {},
   "source": [
    "\n",
    "### Numpy Data types\n",
    "\n",
    "The numpy array supports varieties of data types. Although all elements must be of the same data type, hence if float, all elementsin the array must be float, if integers, all elements in tthe array must be integers etc. The table below gives a list of different data types supported by the numpy array, with their corresponding descriptions."
   ]
  },
  {
   "cell_type": "markdown",
   "metadata": {},
   "source": [
    "**Data types**                >>>>>>>>         **Descriptions**\n",
    "\n",
    "* **bool_**                >>>>>>>>>Boolean (True or False) stored as a byte\n",
    "* **int_**                >>>>>>>>>>Default integer type (same as C long; normally either int64 or int32)\n",
    "* **intc**                >>>>>>>>>>>Identical to C int (normally int32 or int64)\n",
    "* **intp**                 >>>>>>>>>>Integer used for indexing (same as C size_t; normally either int32 or int64)\n",
    "* **int8**                 >>>>>>>>>>Byte (–128 to 127)\n",
    "* **int16**                >>>>>>>>>Integer (–32768 to 32767)\n",
    "* **int32**               >>>>>>>>>Integer (–2147483648 to 2147483647)\n",
    "* **int64**                >>>>>>>>>Integer (–9223372036854775808 to 9223372036854775807)\n",
    "* **uint8**                >>>>>>>>>Unsigned integer (0 to 255)\n",
    "* **uint16**              >>>>>>>>Unsigned integer (0 to 65535)\n",
    "* **uint32**               >>>>>>>>Unsigned integer (0 to 4294967295)\n",
    "* **uint64**               >>>>>>>>Unsigned integer (0 to 18446744073709551615)\n",
    "* **float_**               >>>>>>>>>Shorthand for float64\n",
    "* **float16**              >>>>>>>>Half precision float: sign bit, 5-bit exponent, 10-bit mantissa\n",
    "* **float32**              >>>>>>>>Single precision float: sign bit, 8-bit exponent, 23-bit mantissa\n",
    "* **float64**              >>>>>>>>Double precision float: sign bit, 11-bit exponent, 52-bit mantissa\n",
    "* **complex_**             >>>>>>Shorthand for complex128\n",
    "* **complex64**            >>>>>Complex number, represented by two 32-bit floats (real and imaginary components)\n",
    "* **complex128**           >>>>Complex number, represented by two 64-bit floats (real and imaginary components)"
   ]
  },
  {
   "cell_type": "markdown",
   "metadata": {},
   "source": [
    "The following examples show how to define these various data types"
   ]
  },
  {
   "cell_type": "code",
   "execution_count": 10,
   "metadata": {},
   "outputs": [],
   "source": [
    "sec_data = np.array([1, 2, 3], dtype=bool)         # Declares the all elements into boolen values"
   ]
  },
  {
   "cell_type": "code",
   "execution_count": 11,
   "metadata": {},
   "outputs": [
    {
     "data": {
      "text/plain": [
       "array([ True,  True,  True])"
      ]
     },
     "execution_count": 11,
     "metadata": {},
     "output_type": "execute_result"
    }
   ],
   "source": [
    "sec_data                                           # Outputs True all through, since our array elements are all greater than 0"
   ]
  },
  {
   "cell_type": "code",
   "execution_count": 12,
   "metadata": {},
   "outputs": [],
   "source": [
    "sec_data = np.array([1, 2, 3], dtype=float)        # Declares the all elements into floating values"
   ]
  },
  {
   "cell_type": "code",
   "execution_count": 13,
   "metadata": {},
   "outputs": [
    {
     "data": {
      "text/plain": [
       "array([1., 2., 3.])"
      ]
     },
     "execution_count": 13,
     "metadata": {},
     "output_type": "execute_result"
    }
   ],
   "source": [
    "sec_data                                           # Outputs floating points"
   ]
  },
  {
   "cell_type": "code",
   "execution_count": 14,
   "metadata": {},
   "outputs": [],
   "source": [
    "sec_data = np.array([1, 2, 3], dtype=complex)     # Considers all elements as complex numbers"
   ]
  },
  {
   "cell_type": "code",
   "execution_count": 15,
   "metadata": {},
   "outputs": [
    {
     "data": {
      "text/plain": [
       "array([1.+0.j, 2.+0.j, 3.+0.j])"
      ]
     },
     "execution_count": 15,
     "metadata": {},
     "output_type": "execute_result"
    }
   ],
   "source": [
    "sec_data                                         "
   ]
  },
  {
   "cell_type": "markdown",
   "metadata": {},
   "source": [
    "###  Indexing and Slicing\n",
    "\n",
    "During various kinds of computational and mathematical analysis, it might be necessary to locate some specific elements of an array. Or possibily to split the array into various parts or aggregates."
   ]
  },
  {
   "cell_type": "markdown",
   "metadata": {},
   "source": [
    "**Expression**    >>>>>>>> **Description**\n",
    "\n",
    "* **a[m]**  >>>>>>>>>Select element at index m, where m is an integer (start counting form 0).\n",
    "* **a[-m]** >>>>>>>>>Select the n th element from the end of the list, where n is an integer. The last element in the list is addressed as –1, the second to last element as –2, and so on.\n",
    "* **a[m:n]** >>>>>>>>Select elements with index starting at m and ending at n − 1 (m and n are integers).\n",
    "\n",
    "* **a[:] or a[0:-1]** >>>Select all elements in the given axis.\n",
    "* **a[:n]** >>>>>>>>>>Select elements starting with index 0 and going up to index n − 1 (integer).\n",
    "* **a[m:] or a[m:-1]** >Select elements starting with index m (integer) and going up to the last element inthe array.\n",
    "* **a[m:n:p]** >>>>>>>Select elements with index m through n (exclusive), with increment p.\n",
    "* **a[::-1]** >>>>>>>>>Select all the elements, in reverse order."
   ]
  },
  {
   "cell_type": "markdown",
   "metadata": {},
   "source": [
    "To illustrate how these actions above can be performed on an array, we will be using few examples to explain them. "
   ]
  },
  {
   "cell_type": "code",
   "execution_count": 16,
   "metadata": {},
   "outputs": [],
   "source": [
    "a = np.array([[2, 3, 4], [40, 50, 60], [11, 22, 33]])"
   ]
  },
  {
   "cell_type": "code",
   "execution_count": 17,
   "metadata": {},
   "outputs": [
    {
     "data": {
      "text/plain": [
       "array([[ 2,  3,  4],\n",
       "       [40, 50, 60],\n",
       "       [11, 22, 33]])"
      ]
     },
     "execution_count": 17,
     "metadata": {},
     "output_type": "execute_result"
    }
   ],
   "source": [
    "a"
   ]
  },
  {
   "cell_type": "code",
   "execution_count": 18,
   "metadata": {},
   "outputs": [
    {
     "data": {
      "text/plain": [
       "array([2, 3, 4])"
      ]
     },
     "execution_count": 18,
     "metadata": {},
     "output_type": "execute_result"
    }
   ],
   "source": [
    "a[0]                                         #This outputs all all elements with index row 0."
   ]
  },
  {
   "cell_type": "code",
   "execution_count": 19,
   "metadata": {},
   "outputs": [
    {
     "data": {
      "text/plain": [
       "array([11, 22, 33])"
      ]
     },
     "execution_count": 19,
     "metadata": {},
     "output_type": "execute_result"
    }
   ],
   "source": [
    "a[-1]                                        #Outputs the last row"
   ]
  },
  {
   "cell_type": "code",
   "execution_count": 20,
   "metadata": {},
   "outputs": [
    {
     "data": {
      "text/plain": [
       "array([[40, 50, 60]])"
      ]
     },
     "execution_count": 20,
     "metadata": {},
     "output_type": "execute_result"
    }
   ],
   "source": [
    "a[1:2]                                       #Ouputs rows starting from index 1 to index (2-1 = 1)"
   ]
  },
  {
   "cell_type": "code",
   "execution_count": 21,
   "metadata": {},
   "outputs": [
    {
     "data": {
      "text/plain": [
       "array([[11, 22, 33],\n",
       "       [40, 50, 60],\n",
       "       [ 2,  3,  4]])"
      ]
     },
     "execution_count": 21,
     "metadata": {},
     "output_type": "execute_result"
    }
   ],
   "source": [
    "a[::-1]                                     #Outputs enteries in reverse order"
   ]
  },
  {
   "cell_type": "markdown",
   "metadata": {},
   "source": [
    "### Basic Matrix Computations\n",
    "Numpy library has many capabilities in dealing with matrix operations. Because Matrix's vast applications, we will be leaving advanced matrix operations for another tutorial in \"Linear Algebra in Python\". "
   ]
  },
  {
   "cell_type": "code",
   "execution_count": 22,
   "metadata": {},
   "outputs": [],
   "source": [
    "matrixA = np.array([[2,4,6],[10,12,14],[20,22,24]])"
   ]
  },
  {
   "cell_type": "code",
   "execution_count": 23,
   "metadata": {},
   "outputs": [
    {
     "data": {
      "text/plain": [
       "array([[ 2,  4,  6],\n",
       "       [10, 12, 14],\n",
       "       [20, 22, 24]])"
      ]
     },
     "execution_count": 23,
     "metadata": {},
     "output_type": "execute_result"
    }
   ],
   "source": [
    "matrixA"
   ]
  },
  {
   "cell_type": "code",
   "execution_count": 24,
   "metadata": {},
   "outputs": [
    {
     "data": {
      "text/plain": [
       "114"
      ]
     },
     "execution_count": 24,
     "metadata": {},
     "output_type": "execute_result"
    }
   ],
   "source": [
    "np.sum(matrixA)                                    #Outputs sum of all elements in the array"
   ]
  },
  {
   "cell_type": "code",
   "execution_count": 25,
   "metadata": {},
   "outputs": [
    {
     "data": {
      "text/plain": [
       "7.542472332656507"
      ]
     },
     "execution_count": 25,
     "metadata": {},
     "output_type": "execute_result"
    }
   ],
   "source": [
    "np.std(matrixA)                                    #Outputs standard deviation of matrixA"
   ]
  },
  {
   "cell_type": "code",
   "execution_count": 26,
   "metadata": {},
   "outputs": [
    {
     "data": {
      "text/plain": [
       "12.666666666666666"
      ]
     },
     "execution_count": 26,
     "metadata": {},
     "output_type": "execute_result"
    }
   ],
   "source": [
    "np.mean(matrixA)                                  #Outputs mean"
   ]
  },
  {
   "cell_type": "code",
   "execution_count": 27,
   "metadata": {},
   "outputs": [
    {
     "data": {
      "text/plain": [
       "56.888888888888886"
      ]
     },
     "execution_count": 27,
     "metadata": {},
     "output_type": "execute_result"
    }
   ],
   "source": [
    "np.var(matrixA)                                   #Outputs variance of matrixA"
   ]
  },
  {
   "cell_type": "code",
   "execution_count": 28,
   "metadata": {},
   "outputs": [
    {
     "data": {
      "text/plain": [
       "array([[ 2, 10, 20],\n",
       "       [ 4, 12, 22],\n",
       "       [ 6, 14, 24]])"
      ]
     },
     "execution_count": 28,
     "metadata": {},
     "output_type": "execute_result"
    }
   ],
   "source": [
    "np.transpose(matrixA)                            #Outputs transpose of matrixA"
   ]
  },
  {
   "cell_type": "code",
   "execution_count": 29,
   "metadata": {},
   "outputs": [],
   "source": [
    "matrixB = np.array([[4,6,3],[5,3,2],[6,8,2]])"
   ]
  },
  {
   "cell_type": "code",
   "execution_count": 30,
   "metadata": {},
   "outputs": [
    {
     "data": {
      "text/plain": [
       "array([[ 64,  72,  26],\n",
       "       [184, 208,  82],\n",
       "       [334, 378, 152]])"
      ]
     },
     "execution_count": 30,
     "metadata": {},
     "output_type": "execute_result"
    }
   ],
   "source": [
    "np.dot(matrixA,matrixB)                        #Outputs the dot product of Matrix A and B"
   ]
  },
  {
   "cell_type": "code",
   "execution_count": 31,
   "metadata": {},
   "outputs": [
    {
     "data": {
      "text/plain": [
       "array([[ -24,   18,   -4],\n",
       "       [ -18,   50,  -30],\n",
       "       [-148,  104,   28]])"
      ]
     },
     "execution_count": 31,
     "metadata": {},
     "output_type": "execute_result"
    }
   ],
   "source": [
    "np.cross(matrixA,matrixB)                        #Outputs the cross product of Matrix A and B"
   ]
  },
  {
   "cell_type": "markdown",
   "metadata": {},
   "source": [
    "### Arithmetic Operations\n",
    "\n",
    "Different arithmetic operations can be carried out using numpy. Lets consider the following basic operations;"
   ]
  },
  {
   "cell_type": "code",
   "execution_count": 32,
   "metadata": {},
   "outputs": [],
   "source": [
    "i = np.array([1,2,3]) \n",
    "j = np.array([4,5,6])"
   ]
  },
  {
   "cell_type": "code",
   "execution_count": 33,
   "metadata": {},
   "outputs": [
    {
     "data": {
      "text/plain": [
       "array([ 4, 10, 18])"
      ]
     },
     "execution_count": 33,
     "metadata": {},
     "output_type": "execute_result"
    }
   ],
   "source": [
    "i * j                                        #multiplication"
   ]
  },
  {
   "cell_type": "code",
   "execution_count": 34,
   "metadata": {},
   "outputs": [
    {
     "data": {
      "text/plain": [
       "array([-3, -3, -3])"
      ]
     },
     "execution_count": 34,
     "metadata": {},
     "output_type": "execute_result"
    }
   ],
   "source": [
    "i - j                                        #subtraction"
   ]
  },
  {
   "cell_type": "code",
   "execution_count": 35,
   "metadata": {},
   "outputs": [
    {
     "data": {
      "text/plain": [
       "array([5, 7, 9])"
      ]
     },
     "execution_count": 35,
     "metadata": {},
     "output_type": "execute_result"
    }
   ],
   "source": [
    "i + j                                        #addition"
   ]
  },
  {
   "cell_type": "code",
   "execution_count": 36,
   "metadata": {},
   "outputs": [
    {
     "data": {
      "text/plain": [
       "array([0.25, 0.4 , 0.5 ])"
      ]
     },
     "execution_count": 36,
     "metadata": {},
     "output_type": "execute_result"
    }
   ],
   "source": [
    "i / j                                        #division"
   ]
  },
  {
   "cell_type": "code",
   "execution_count": 37,
   "metadata": {},
   "outputs": [
    {
     "data": {
      "text/plain": [
       "array([1, 4, 9], dtype=int32)"
      ]
     },
     "execution_count": 37,
     "metadata": {},
     "output_type": "execute_result"
    }
   ],
   "source": [
    "i ** 2                                       # array i to the power of 2"
   ]
  },
  {
   "cell_type": "markdown",
   "metadata": {},
   "source": [
    "### Elementwise Functions\n",
    "In addition to the basic arithmetic operations, numpy provides some specialized functions otherwise called the elementwise functions. These functions can be used in scientific, computational and numerical analysis. Lets check out few examples below; "
   ]
  },
  {
   "cell_type": "code",
   "execution_count": 38,
   "metadata": {},
   "outputs": [
    {
     "data": {
      "text/plain": [
       "0.49999999999999994"
      ]
     },
     "execution_count": 38,
     "metadata": {},
     "output_type": "execute_result"
    }
   ],
   "source": [
    "np.sin(np.deg2rad(30))                       #outputs Sin(30) in degrees"
   ]
  },
  {
   "cell_type": "code",
   "execution_count": 39,
   "metadata": {},
   "outputs": [
    {
     "data": {
      "text/plain": [
       "5.0"
      ]
     },
     "execution_count": 39,
     "metadata": {},
     "output_type": "execute_result"
    }
   ],
   "source": [
    "np.sqrt(25)                                 #outputs the square root "
   ]
  },
  {
   "cell_type": "code",
   "execution_count": null,
   "metadata": {},
   "outputs": [],
   "source": [
    "#np.cosh"
   ]
  },
  {
   "cell_type": "code",
   "execution_count": null,
   "metadata": {},
   "outputs": [],
   "source": [
    "#np.exp"
   ]
  },
  {
   "cell_type": "code",
   "execution_count": null,
   "metadata": {},
   "outputs": [],
   "source": [
    "#np.log"
   ]
  },
  {
   "cell_type": "code",
   "execution_count": 40,
   "metadata": {},
   "outputs": [],
   "source": [
    "#np.arcos"
   ]
  },
  {
   "cell_type": "markdown",
   "metadata": {},
   "source": [
    "### Summary and Next steps"
   ]
  },
  {
   "cell_type": "markdown",
   "metadata": {},
   "source": [
    "So far, we have been able to see the basics and various applications of Numpy library. Our next steps will be to further learn and see more intermediate and advanced applications of this library. \n",
    "Below are two courses that will be covering Numpy's intermediate to advanced applications. \n",
    "\n",
    "1. Codebasics Numpy playlist: https://youtube.com/playlist?list=PLUcmakntVocWGSKXIsUn1J7Wm9ekpZ87G\n",
    "\n",
    "2. Introduction to Numerical Computing with Numpy | Scipy 2019 Tutorial | Alex Chabot Leclerc: https://youtu.be/ZB7BZMhfPgk \n"
   ]
  }
 ],
 "metadata": {
  "kernelspec": {
   "display_name": "Python 3",
   "language": "python",
   "name": "python3"
  },
  "language_info": {
   "codemirror_mode": {
    "name": "ipython",
    "version": 3
   },
   "file_extension": ".py",
   "mimetype": "text/x-python",
   "name": "python",
   "nbconvert_exporter": "python",
   "pygments_lexer": "ipython3",
   "version": "3.7.6"
  }
 },
 "nbformat": 4,
 "nbformat_minor": 4
}
