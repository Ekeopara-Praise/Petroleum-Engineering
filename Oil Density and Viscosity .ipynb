{
 "cells": [
  {
   "cell_type": "markdown",
   "metadata": {},
   "source": [
    "## Oil Viscosity Determination in Python"
   ]
  },
  {
   "cell_type": "markdown",
   "metadata": {},
   "source": [
    "**Input parameters and their values:**\n",
    "\n",
    "* Pressure (p)                       = 4475\n",
    "* Temperature (t)                    = 140 \n",
    "* Bubble Point Pressure (pb)         = 2745\n",
    "* Solution gas oil ratio (Rs)        = 600\n",
    "* Gas specific gravity (Gsg)         = 1\n",
    "* Stock tank oil gravity (API)       = 35"
   ]
  },
  {
   "cell_type": "code",
   "execution_count": 1,
   "metadata": {},
   "outputs": [
    {
     "name": "stdout",
     "output_type": "stream",
     "text": [
      "Pressure (p):  4475\n",
      "Temperature (t): 140\n",
      "Bubble Point Pressure (pb): 2745\n",
      "Solution gas oil ratio (Rs): 600\n",
      "Gas specific gravity (Gsg): 1\n",
      "Stock tank oil gravity (API): 35\n"
     ]
    },
    {
     "data": {
      "text/plain": [
       "'Oil viscosity: 1.4819 cp'"
      ]
     },
     "execution_count": 1,
     "metadata": {},
     "output_type": "execute_result"
    }
   ],
   "source": [
    "from math import sqrt   #imported square root function from mathemathe\n",
    "\n",
    "def oil_viscosity_standingMethod():\n",
    "    \n",
    "    \"\"\"input our needed parameters\"\"\"\n",
    "    p = float(input(\"Pressure (p): \"))\n",
    "    t = float(input(\"Temperature (t): \"))\n",
    "    pb = float(input(\"Bubble Point Pressure (pb): \"))\n",
    "    Rs = float(input(\"Solution gas oil ratio (Rs): \"))\n",
    "    Gsg = float(input(\"Gas specific gravity (Gsg): \"))\n",
    "    API = float(input(\"Stock tank oil gravity (API): \"))\n",
    "    \n",
    "    \"\"\"determine our Oil specific gravity and Oil density\"\"\"\n",
    "    Osg = ((141.5)/(API + 131.5))\n",
    "    OD = (62.4*(Osg) + 0.0136*Rs*Gsg)/(0.972 + 0.000147*(Rs*sqrt(Gsg/Osg)+1.25*t)**1.175)\n",
    "    \n",
    "    \"\"\"obtain the dead oil viscosity and the saturated oil viscosity quantities\"\"\"\n",
    "    A = 10**(0.43+(8.33/API))\n",
    "    Uod = (0.32 + (18000000/(API**4.53))) * ((360/(t+200))**A)\n",
    "    a = Rs*((2.2*(10**-7)*Rs) - (7.4*(10**-4)))\n",
    "    c = 8.62*(10**-5) * Rs\n",
    "    d = 1.10 * (10**-3) * Rs\n",
    "    e = 3.74 * (10**-3) * Rs\n",
    "    b = ((0.68)/10**c) + ((0.25)/10**d) + ((0.062)/10**e)\n",
    "    Uob = (10**a) * (Uod**b)\n",
    "    \n",
    "    \"\"\"determine the oil viscosity\"\"\"\n",
    "    Uo = Uob + 0.001*(p-pb)*(0.024*(Uob**1.6) + 0.38*(Uob**0.56))\n",
    "    \n",
    "    \n",
    "    return f'Oil viscosity: {round(Uo, 4)} cp' #the rsult is disp\n",
    "\n",
    "oil_viscosity_standingMethod()"
   ]
  }
 ],
 "metadata": {
  "kernelspec": {
   "display_name": "Python 3",
   "language": "python",
   "name": "python3"
  },
  "language_info": {
   "codemirror_mode": {
    "name": "ipython",
    "version": 3
   },
   "file_extension": ".py",
   "mimetype": "text/x-python",
   "name": "python",
   "nbconvert_exporter": "python",
   "pygments_lexer": "ipython3",
   "version": "3.7.6"
  }
 },
 "nbformat": 4,
 "nbformat_minor": 4
}
